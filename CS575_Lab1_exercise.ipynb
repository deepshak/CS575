{
  "nbformat": 4,
  "nbformat_minor": 0,
  "metadata": {
    "kernelspec": {
      "display_name": "Python 3",
      "language": "python",
      "name": "python3"
    },
    "language_info": {
      "codemirror_mode": {
        "name": "ipython",
        "version": 3
      },
      "file_extension": ".py",
      "mimetype": "text/x-python",
      "name": "python",
      "nbconvert_exporter": "python",
      "pygments_lexer": "ipython3",
      "version": "3.8.5"
    },
    "colab": {
      "name": "CS575_Lab1_exercise.ipynb",
      "provenance": [],
      "include_colab_link": true
    }
  },
  "cells": [
    {
      "cell_type": "markdown",
      "metadata": {
        "id": "view-in-github",
        "colab_type": "text"
      },
      "source": [
        "<a href=\"https://colab.research.google.com/github/deepshak/CS575/blob/main/CS575_Lab1_exercise.ipynb\" target=\"_parent\"><img src=\"https://colab.research.google.com/assets/colab-badge.svg\" alt=\"Open In Colab\"/></a>"
      ]
    },
    {
      "cell_type": "markdown",
      "metadata": {
        "id": "7F14W_Xqjo8y"
      },
      "source": [
        "# Load the time series data AirPassengers.csv (https://www.kaggle.com/rakannimer/air-passengers)"
      ]
    },
    {
      "cell_type": "code",
      "metadata": {
        "id": "Nfp8IGU4jo82"
      },
      "source": [
        "# 1. Load the dataset which is indexed by the month."
      ],
      "execution_count": null,
      "outputs": []
    },
    {
      "cell_type": "code",
      "metadata": {
        "id": "WqHy9xryjo82"
      },
      "source": [
        "# 2. Review the data statistics"
      ],
      "execution_count": null,
      "outputs": []
    },
    {
      "cell_type": "code",
      "metadata": {
        "id": "yDMdWdt9jo83"
      },
      "source": [
        "# 3. Check for datatype in dataset"
      ],
      "execution_count": null,
      "outputs": []
    },
    {
      "cell_type": "code",
      "metadata": {
        "id": "uF9dCrL9jo83"
      },
      "source": [
        "# 4. Convert Month object into datetime"
      ],
      "execution_count": null,
      "outputs": []
    },
    {
      "cell_type": "code",
      "metadata": {
        "id": "8VoARaaujo83"
      },
      "source": [
        "# 5. Cleaning and preparing time series data"
      ],
      "execution_count": null,
      "outputs": []
    },
    {
      "cell_type": "code",
      "metadata": {
        "id": "il3S92hOjo83"
      },
      "source": [
        "# 6.  Check for Stationarity of time series"
      ],
      "execution_count": null,
      "outputs": []
    },
    {
      "cell_type": "markdown",
      "metadata": {
        "id": "6BVudfMIjo83"
      },
      "source": [
        "# Visualizing the dataset\n",
        "(Firstly with Matplotlib and secondly with Seaborn:)"
      ]
    },
    {
      "cell_type": "code",
      "metadata": {
        "id": "yg1ETxUdjo84"
      },
      "source": [
        "# 1. Plot the raw data. "
      ],
      "execution_count": null,
      "outputs": []
    },
    {
      "cell_type": "code",
      "metadata": {
        "id": "gb6edy2hjo84"
      },
      "source": [
        "# 2. Plot histogram."
      ],
      "execution_count": null,
      "outputs": []
    },
    {
      "cell_type": "code",
      "metadata": {
        "id": "ck10ImeAjo84"
      },
      "source": [
        "# 3. Use the boxplot function to see any seasonal effects."
      ],
      "execution_count": null,
      "outputs": []
    },
    {
      "cell_type": "code",
      "metadata": {
        "id": "de21M9DYjo84"
      },
      "source": [
        "# 4. Use countplot for passenger column."
      ],
      "execution_count": null,
      "outputs": []
    },
    {
      "cell_type": "code",
      "metadata": {
        "id": "3rPdKYhCjo85"
      },
      "source": [
        "# Find "
      ],
      "execution_count": null,
      "outputs": []
    }
  ]
}